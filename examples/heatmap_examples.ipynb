{
 "cells": [
  {
   "cell_type": "code",
   "execution_count": 1,
   "metadata": {
    "collapsed": false
   },
   "outputs": [
    {
     "name": "stderr",
     "output_type": "stream",
     "text": [
      "/home/niels/anaconda3/lib/python3.6/site-packages/h5py/__init__.py:34: FutureWarning: Conversion of the second argument of issubdtype from `float` to `np.floating` is deprecated. In future, it will be treated as `np.float64 == np.dtype(float).type`.\n",
      "  from ._conv import register_converters as _register_converters\n"
     ]
    }
   ],
   "source": [
    "%load_ext autoreload\n",
    "%autoreload 2\n",
    "\n",
    "from lrp import *\n",
    "from lrp.data import Data\n",
    "from lrp import read_mnist\n",
    "import os\n",
    "from lrp.evaluate_rule import HeatmapEval\n",
    "from lrp import utils\n",
    "import os"
   ]
  },
  {
   "cell_type": "code",
   "execution_count": 3,
   "metadata": {
    "collapsed": false
   },
   "outputs": [
    {
     "name": "stdout",
     "output_type": "stream",
     "text": [
      "Extracting /home/niels/Dokumente/Informatik/bachelor/tensorflow/datasets/mnist/train-images-idx3-ubyte.gz\n",
      "Extracting /home/niels/Dokumente/Informatik/bachelor/tensorflow/datasets/mnist/train-labels-idx1-ubyte.gz\n",
      "Extracting /home/niels/Dokumente/Informatik/bachelor/tensorflow/datasets/mnist/t10k-images-idx3-ubyte.gz\n",
      "Extracting /home/niels/Dokumente/Informatik/bachelor/tensorflow/datasets/mnist/t10k-labels-idx1-ubyte.gz\n",
      "Network layer mappings: (?, 784)\n",
      "-> (?, 784)\n",
      "-> (?, 784)\n",
      "-> (?, 10)\n",
      "Network layer mappings: (?, 784)\n",
      "-> (?, 24, 24, 32)\n",
      "-> (?, 24, 24, 32)\n",
      "-> (?, 12, 12, 32)\n",
      "-> (?, 8, 8, 64)\n",
      "-> (?, 8, 8, 64)\n",
      "-> (?, 4, 4, 64)\n",
      "-> (?, 1024)\n",
      "-> (?, 1024)\n",
      "-> (?, 10)\n",
      "INFO:tensorflow:Restoring parameters from trained_models/example_fcn/model.ckpt\n",
      "INFO:tensorflow:Restoring parameters from trained_models/example_cnn/model.ckpt\n"
     ]
    }
   ],
   "source": [
    "# train a good cnn and a good fcn\n",
    "mnist = read_mnist.read_data_sets(\"{}/datasets/mnist\".format(os.environ[\"TF_PROJECTS\"]), one_hot=True)\n",
    "data = Data(X=mnist.train.images, y=mnist.train.labels,\n",
    "                X_val=mnist.validation.images, y_val=mnist.validation.labels,\n",
    "                X_test=mnist.test.images, y_test=mnist.test.labels)\n",
    "fcn = Network([Format(), FirstLinear(784), ReLU(), NextLinear(10)], data.X, data.y_)\n",
    "cnn = Network([Format(), FirstConvolution([5, 5, 1, 32]), ReLU(), Pooling(),\n",
    "               NextConvolution([5, 5, 32, 64]), ReLU(), Pooling(),\n",
    "               NextLinear(1024), ReLU(),\n",
    "               NextLinear(10)],\n",
    "               data.X, data.y_)\n",
    "\n",
    "\n",
    "    \n",
    "    \n",
    "# show some heatmaps\n",
    "\n",
    "# show the graph how pertubations destroy the value\n",
    "\n",
    "# show some pertubated images"
   ]
  },
  {
   "cell_type": "code",
   "execution_count": 10,
   "metadata": {
    "collapsed": false
   },
   "outputs": [
    {
     "name": "stdout",
     "output_type": "stream",
     "text": [
      "INFO:tensorflow:Restoring parameters from trained_models/example_fcn/model.ckpt\n",
      "INFO:tensorflow:Restoring parameters from trained_models/example_cnn/model.ckpt\n",
      "Evaluate simple on fcn\n",
      "Visualized heatmaps\n",
      "Evaluate simple-ref on fcn\n",
      "Visualized heatmaps\n",
      "Evaluate deeptaylor on fcn\n",
      "Visualized heatmaps\n",
      "Evaluate deeptaylor-ref on fcn\n",
      "Visualized heatmaps\n",
      "Evaluate zbab on fcn\n",
      "Visualized heatmaps\n",
      "Evaluate zbab-ref on fcn\n",
      "Visualized heatmaps\n",
      "Evaluate simple on cnn\n",
      "Visualized heatmaps\n",
      "Evaluate simple-ref on cnn\n",
      "Visualized heatmaps\n",
      "Evaluate deeptaylor on cnn\n",
      "Visualized heatmaps\n",
      "Evaluate deeptaylor-ref on cnn\n",
      "Visualized heatmaps\n",
      "Evaluate zbab on cnn\n",
      "Visualized heatmaps\n",
      "Evaluate zbab-ref on cnn\n",
      "Visualized heatmaps\n",
      "--------- COMPARE -----------------\n",
      "eval <lrp.train.Network object at 0x7f0b1d02e6d8> simple\n",
      "Eval  fcn\n",
      "Scores\n",
      "order (784, 100)\n",
      "eval <lrp.train.Network object at 0x7f0b1d02e6d8> simple-ref\n",
      "Eval  fcn\n",
      "Scores\n",
      "order (784, 100)\n",
      "eval <lrp.train.Network object at 0x7f0b1d02e6d8> deeptaylor\n",
      "Eval  fcn\n",
      "Scores\n",
      "order (784, 100)\n",
      "eval <lrp.train.Network object at 0x7f0b1d02e6d8> deeptaylor-ref\n",
      "Eval  fcn\n",
      "Scores\n",
      "order (784, 100)\n",
      "eval <lrp.train.Network object at 0x7f0b1d02e6d8> zbab\n",
      "Eval  fcn\n",
      "Scores\n",
      "order (784, 100)\n",
      "eval <lrp.train.Network object at 0x7f0b1d02e6d8> zbab-ref\n",
      "Eval  fcn\n",
      "Scores\n",
      "order (784, 100)\n",
      "eval <lrp.train.Network object at 0x7f0b1d02e6d8> rnd\n",
      "Eval  fcn\n",
      "Scores\n",
      "order (784, 100)\n",
      "eval <lrp.train.Network object at 0x7f0b1cd65710> simple\n",
      "Eval  cnn\n",
      "Scores\n",
      "order (784, 100)\n",
      "eval <lrp.train.Network object at 0x7f0b1cd65710> simple-ref\n",
      "Eval  cnn\n",
      "Scores\n",
      "order (784, 100)\n",
      "eval <lrp.train.Network object at 0x7f0b1cd65710> deeptaylor\n",
      "Eval  cnn\n",
      "Scores\n",
      "order (784, 100)\n",
      "eval <lrp.train.Network object at 0x7f0b1cd65710> deeptaylor-ref\n",
      "Eval  cnn\n",
      "Scores\n",
      "order (784, 100)\n",
      "eval <lrp.train.Network object at 0x7f0b1cd65710> zbab\n",
      "Eval  cnn\n",
      "Scores\n",
      "order (784, 100)\n",
      "eval <lrp.train.Network object at 0x7f0b1cd65710> zbab-ref\n",
      "Eval  cnn\n",
      "Scores\n",
      "order (784, 100)\n",
      "eval <lrp.train.Network object at 0x7f0b1cd65710> rnd\n",
      "Eval  cnn\n",
      "Scores\n",
      "order (784, 100)\n"
     ]
    },
    {
     "data": {
      "image/png": "[encoded data removed]",
      "text/plain": [
       "<Figure size 432x288 with 1 Axes>"
      ]
     },
     "metadata": {},
     "output_type": "display_data"
    }
   ],
   "source": [
    "nns = [fcn, cnn]\n",
    "\n",
    "rules = [\"simple\",\n",
    "         (\"simple\", {\"reference\": data.X_val}),\n",
    "         \"deeptaylor\",\n",
    "         (\"deeptaylor\", {\"reference\": data.X_val}),\n",
    "         \"zbab\",\n",
    "         (\"zbab\", {\"reference\": data.X_val})]\n",
    "\n",
    "evaluator = HeatmapEval(nns, [\"fcn\", \"cnn\"],\n",
    "                        rules, [\"simple\", \"simple-ref\", \"deeptaylor\", \"deeptaylor-ref\", \"zbab\", \"zbab-ref\", ],\n",
    "                        data)\n",
    "\n",
    "with tf.Session() as sess:\n",
    "    \n",
    "    fcn.set_session(sess)\n",
    "    cnn.set_session(sess)\n",
    "\n",
    "    sess.run(tf.global_variables_initializer())\n",
    "\n",
    "    try:\n",
    "        fcn.load_params(\"trained_models/example_fcn\")\n",
    "    except:\n",
    "        print(\"Train new fcn\")\n",
    "        fcn.fit(data, lambda i, val_acc: max([0]+val_acc)<=0.98)\n",
    "        fcn.save_params(\"trained_models/example_fcn\")\n",
    "\n",
    "    try:\n",
    "        cnn.load_params(\"trained_models/example_cnn\")\n",
    "    except:\n",
    "        print(\"Train new cnn\")\n",
    "        cnn.fit(data, lambda i, val_acc: max([0]+val_acc)<=0.98)\n",
    "        cnn.save_params(\"trained_models/example_cnn\")\n",
    "    \n",
    "    os.makedirs(\"evaluate/heatmaps\", exist_ok=True)\n",
    "\n",
    "    for nn_name, nn in zip([\"fcn\", \"cnn\"], nns):\n",
    "\n",
    "        for rule_name, H in zip(evaluator.rule_names, evaluator.heatmaps[nn]):\n",
    "            print(\"Evaluate\", rule_name, \"on\", nn_name)\n",
    "            heatmaps, prediction = sess.run([H, nn.y], feed_dict={data.X: data.X_test[:16], data.y_: data.y_test[:16]})\n",
    "            utils.visualize(heatmaps, utils.heatmap_original, \"evaluate/heatmaps/{}-{}.png\".format(\n",
    "                nn_name, rule_name))\n",
    "            plt.show()\n",
    "            print(\"Visualized heatmaps\")\n",
    "\n",
    "    print(\"--------- COMPARE -----------------\")\n",
    "    evaluator.compare()\n",
    "    evaluator.plot_effect(\".\")\n",
    "    plt.show()"
   ]
  }
 ],
 "metadata": {
  "kernelspec": {
   "display_name": "Python 3",
   "language": "python",
   "name": "python3"
  },
  "language_info": {
   "codemirror_mode": {
    "name": "ipython",
    "version": 3
   },
   "file_extension": ".py",
   "mimetype": "text/x-python",
   "name": "python",
   "nbconvert_exporter": "python",
   "pygments_lexer": "ipython3",
   "version": "3.6.1"
  }
 },
 "nbformat": 4,
 "nbformat_minor": 2
}
