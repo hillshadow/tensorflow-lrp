{
 "cells": [
  {
   "cell_type": "code",
   "execution_count": 1,
   "metadata": {
    "collapsed": false
   },
   "outputs": [
    {
     "name": "stderr",
     "output_type": "stream",
     "text": [
      "/home/niels/anaconda3/lib/python3.6/site-packages/h5py/__init__.py:34: FutureWarning: Conversion of the second argument of issubdtype from `float` to `np.floating` is deprecated. In future, it will be treated as `np.float64 == np.dtype(float).type`.\n",
      "  from ._conv import register_converters as _register_converters\n"
     ]
    },
    {
     "name": "stdout",
     "output_type": "stream",
     "text": [
      "WARNING:tensorflow:From /home/niels/Dokumente/ida/lrp/read_mnist.py:220: maybe_download (from tensorflow.contrib.learn.python.learn.datasets.base) is deprecated and will be removed in a future version.\n",
      "Instructions for updating:\n",
      "Please write your own downloading logic.\n",
      "Extracting /home/niels/Dokumente/Informatik/bachelor/tensorflow/datasets/mnist/train-images-idx3-ubyte.gz\n",
      "Extracting /home/niels/Dokumente/Informatik/bachelor/tensorflow/datasets/mnist/train-labels-idx1-ubyte.gz\n",
      "Extracting /home/niels/Dokumente/Informatik/bachelor/tensorflow/datasets/mnist/t10k-images-idx3-ubyte.gz\n",
      "Extracting /home/niels/Dokumente/Informatik/bachelor/tensorflow/datasets/mnist/t10k-labels-idx1-ubyte.gz\n",
      "Network layer mappings: (?, 784)\n",
      "-> (?, 784)\n",
      "-> (?, 784)\n",
      "-> (?, 10)\n",
      "Network layer mappings: (?, 784)\n",
      "-> (?, 24, 24, 32)\n",
      "-> (?, 24, 24, 32)\n",
      "-> (?, 12, 12, 32)\n",
      "-> (?, 8, 8, 64)\n",
      "-> (?, 8, 8, 64)\n",
      "-> (?, 4, 4, 64)\n",
      "-> (?, 1024)\n",
      "-> (?, 1024)\n",
      "-> (?, 10)\n",
      "INFO:tensorflow:Restoring parameters from trained_models/example_fcn/model.ckpt\n",
      "INFO:tensorflow:Restoring parameters from trained_models/example_cnn/model.ckpt\n"
     ]
    }
   ],
   "source": [
    "%load_ext autoreload\n",
    "%autoreload 2\n",
    "\n",
    "from lrp import *\n",
    "from lrp.data import Data\n",
    "from lrp import read_mnist\n",
    "import os\n",
    "from lrp.evaluate_rule import HeatmapEval\n",
    "from lrp import utils\n",
    "import os\n",
    "\n",
    "# train a good cnn and a good fcn\n",
    "mnist = read_mnist.read_data_sets(\"{}/datasets/mnist\".format(os.environ[\"TF_PROJECTS\"]), one_hot=True)\n",
    "data = Data(X=mnist.train.images, y=mnist.train.labels,\n",
    "                X_val=mnist.validation.images, y_val=mnist.validation.labels,\n",
    "                X_test=mnist.test.images, y_test=mnist.test.labels)\n",
    "fcn = Network([Format(), FirstLinear(784), ReLU(), NextLinear(10)], data.X, data.y_)\n",
    "cnn = Network([Format(), FirstConvolution([5, 5, 1, 32]), ReLU(), Pooling(),\n",
    "               NextConvolution([5, 5, 32, 64]), ReLU(), Pooling(),\n",
    "               NextLinear(1024), ReLU(),\n",
    "               NextLinear(10)],\n",
    "               data.X, data.y_)\n",
    "\n",
    "\n",
    "sess = tf.Session()\n",
    "    \n",
    "fcn.set_session(sess)\n",
    "cnn.set_session(sess)\n",
    "\n",
    "sess.run(tf.global_variables_initializer())\n",
    "\n",
    "try:\n",
    "    fcn.load_params(\"trained_models/example_fcn\")\n",
    "except Exception as e:\n",
    "    print(type(e), e)\n",
    "    print(\"Train new fcn\")\n",
    "    fcn.fit(data, lambda i, val_acc: max([0]+val_acc)<=0.98)\n",
    "    fcn.save_params(\"trained_models/example_fcn\")\n",
    "\n",
    "try:\n",
    "    cnn.load_params(\"trained_models/example_cnn\")\n",
    "except Exception as e:\n",
    "    print(type(e), e)\n",
    "    print(\"Train new cnn\")\n",
    "    cnn.fit(data, lambda i, val_acc: max([0]+val_acc)<=0.98)\n",
    "    cnn.save_params(\"trained_models/example_cnn\")   \n",
    "    \n",
    "\n",
    "samples = {data.X: data.X_test[:16], data.y_: data.y_test[:16]}\n",
    "y_ = data.y_test[:16]"
   ]
  },
  {
   "cell_type": "code",
   "execution_count": 4,
   "metadata": {
    "collapsed": false,
    "scrolled": true
   },
   "outputs": [],
   "source": [
    "nns = [fcn, cnn]\n",
    "\n",
    "\n",
    "rules = [\"simple\",\n",
    "         (\"simple\", {\"reference\": data.X_val[:100]}),\n",
    "         \"deeptaylor\",\n",
    "         (\"deeptaylor\", {\"reference\": data.X_val[:100]}),\n",
    "         \"zbab\",\n",
    "         (\"zbab\", {\"reference\": data.X_val[:100]}),\n",
    "        \"ab\",\n",
    "        (\"ab\", {\"reference\": data.X_val[:100]})]\n",
    "\n",
    "evaluator = HeatmapEval(nns, [\"fcn\", \"cnn\"],\n",
    "                        rules, [\"simple\", \"simple-ref\", \"deeptaylor\", \"deeptaylor-ref\", \"zbab\", \"zbab-ref\", \"ab\", \"ab-ref\"],\n",
    "                        data)\n",
    "\n"
   ]
  },
  {
   "cell_type": "code",
   "execution_count": 5,
   "metadata": {
    "collapsed": false
   },
   "outputs": [
    {
     "name": "stdout",
     "output_type": "stream",
     "text": [
      "sample_X (8, 784)\n",
      "len 8\n",
      "x.shape (8, 784)\n",
      "Evaluate simple on fcn\n",
      "len 8\n",
      "x.shape (8, 784)\n",
      "Visualized heatmaps\n",
      "Evaluate simple-ref on fcn\n",
      "len 8\n",
      "x.shape (8, 784)\n",
      "Visualized heatmaps\n",
      "Evaluate deeptaylor on fcn\n",
      "len 8\n",
      "x.shape (8, 784)\n",
      "Visualized heatmaps\n",
      "Evaluate deeptaylor-ref on fcn\n",
      "len 8\n",
      "x.shape (8, 784)\n",
      "Visualized heatmaps\n",
      "Evaluate zbab on fcn\n",
      "len 8\n",
      "x.shape (8, 784)\n",
      "Visualized heatmaps\n",
      "Evaluate zbab-ref on fcn\n",
      "len 8\n",
      "x.shape (8, 784)\n",
      "Visualized heatmaps\n",
      "Evaluate ab on fcn\n",
      "len 8\n",
      "x.shape (8, 784)\n",
      "Visualized heatmaps\n",
      "Evaluate ab-ref on fcn\n",
      "len 8\n",
      "x.shape (8, 784)\n",
      "Visualized heatmaps\n",
      "Evaluate simple on cnn\n",
      "len 8\n",
      "x.shape (8, 784)\n",
      "Visualized heatmaps\n",
      "Evaluate simple-ref on cnn\n",
      "len 8\n",
      "x.shape (8, 784)\n",
      "Visualized heatmaps\n",
      "Evaluate deeptaylor on cnn\n",
      "len 8\n",
      "x.shape (8, 784)\n",
      "Visualized heatmaps\n",
      "Evaluate deeptaylor-ref on cnn\n",
      "len 8\n",
      "x.shape (8, 784)\n",
      "Visualized heatmaps\n",
      "Evaluate zbab on cnn\n",
      "len 8\n",
      "x.shape (8, 784)\n",
      "Visualized heatmaps\n",
      "Evaluate zbab-ref on cnn\n",
      "len 8\n",
      "x.shape (8, 784)\n",
      "Visualized heatmaps\n",
      "Evaluate ab on cnn\n",
      "len 8\n",
      "x.shape (8, 784)\n",
      "Visualized heatmaps\n",
      "Evaluate ab-ref on cnn\n",
      "len 8\n",
      "x.shape (8, 784)\n",
      "Visualized heatmaps\n",
      "--------- COMPARE -----------------\n"
     ]
    }
   ],
   "source": [
    "os.makedirs(\"evaluate/heatmaps\", exist_ok=True)\n",
    "\n",
    "sample_X = data.X_test[1:16][::2] #[1:16][::2]\n",
    "sample_y = data.y_test[1:16][::2] #[1:16][::2]\n",
    "print(\"sample_X\", sample_X.shape)\n",
    "\n",
    "utils.visualize(2*sample_X - 1, utils.graymap, \"evaluate/heatmaps/original\")\n",
    "\n",
    "for nn_name, nn in zip([\"fcn\", \"cnn\"], nns):\n",
    "\n",
    "    for rule_name, H in zip(evaluator.rule_names, evaluator.heatmaps[nn]):\n",
    "        print(\"Evaluate\", rule_name, \"on\", nn_name)\n",
    "        heatmaps, prediction, refs = sess.run([H, nn.y, nn.refs], feed_dict={data.X: sample_X, data.y_: sample_y})\n",
    "        utils.visualize(heatmaps, utils.heatmap, \"evaluate/heatmaps/{}-{}\".format(\n",
    "            nn_name, rule_name))\n",
    "        print(\"Visualized heatmaps\")\n",
    "\n",
    "print(\"--------- COMPARE -----------------\")\n",
    "#evaluator.compare()\n",
    "#evaluator.plot_effect(\"evaluate\")\n",
    "#plt.show()"
   ]
  },
  {
   "cell_type": "code",
   "execution_count": 17,
   "metadata": {
    "collapsed": false
   },
   "outputs": [
    {
     "name": "stdout",
     "output_type": "stream",
     "text": [
      "cnn-deeptaylor-ref error:  [11.49662065 10.57243997 18.94011405 11.27546667 11.51927742 13.49278846\n",
      " 14.27219906 13.22741171 25.75523549 13.39925684 12.28481916 11.8147145\n",
      " 14.43137113 12.36739853 15.03508954 16.80007595]\n",
      "cnn-deeptaylor error:  [11.49662065 10.57243881 18.94011574 11.27546815 11.51927665 13.49278946\n",
      " 14.27219906 13.22741171 25.75523549 13.3992577  12.28482052 11.8147145\n",
      " 14.43137017 12.36739853 15.03508729 16.80007767]\n",
      "fcn-deeptaylor-ref error:  [  15.22099157   16.62481706   14.64105579   15.64407595   22.90346707\n",
      "   14.84643365   14.93316894   15.77011593 -113.1864897    26.89411367\n",
      "   12.96547047   22.35950968   18.99958796   12.96472452   13.09914546\n",
      "   17.19113669]\n",
      "fcn-deeptaylor error:  [1.         1.00000008 1.00000008 0.99999991 1.00000009 0.99999987\n",
      " 1.00000006 0.99999992 1.         1.         0.99999994 0.99999991\n",
      " 1.         0.99999985 0.9999999  1.        ]\n",
      "cnn-zbab-ref error:  [11.49662182 10.57243997 18.94011405 11.27546667 11.51927742 13.49278846\n",
      " 14.27219906 13.22741277 25.75523549 13.39925855 12.28481916 11.8147145\n",
      " 14.43137017 12.36739853 15.0350918  16.80007767]\n",
      "cnn-zbab error:  [11.49662065 10.57243997 18.94011405 11.27546815 11.51927589 13.49278846\n",
      " 14.27220011 13.22741277 25.75523549 13.39925684 12.28481916 11.8147145\n",
      " 14.43137017 12.36739927 15.03508954 16.80007767]\n",
      "fcn-zbab-ref error:  [  15.22099      16.62481706   14.64105706   15.64407746   22.90346852\n",
      "   14.84643365   14.93316998   15.77011593 -113.18648275   26.89411631\n",
      "   12.96547047   22.35950968   18.99958594   12.96472573   13.09914627\n",
      "   17.19113669]\n",
      "fcn-zbab error:  [0.9999999  1.00000008 1.00000016 0.99999981 1.00000009 0.99999975\n",
      " 1.00000019 1.         1.00000022 0.99999992 0.99999994 0.99999991\n",
      " 1.00000013 0.9999997  0.9999998  1.00000007]\n",
      "cnn-simple-ref error:  [11.4960247  10.51368859 19.08086998 11.2294284  12.94347136 13.45178644\n",
      " 14.23703567 13.31672943 25.74079507 13.31719201 12.28609636 11.80436305\n",
      " 14.55564061 12.40261434 14.96375446 15.51421297]\n",
      "cnn-simple error:  [11.49653249 10.57379133 18.94030387 11.27803345 11.51974438 13.54614176\n",
      " 14.27216126 13.22786887 25.7556071  13.3997935  12.28484214 11.81401353\n",
      " 14.43124118 12.36740297 15.03545698 16.80010867]\n",
      "fcn-simple-ref error:  [  15.22860779   16.62484963   14.64096933   15.64417096   22.90345841\n",
      "   14.84663412   14.93320013   15.77030745 -113.18658013   26.89386786\n",
      "   12.96533295   22.35860316   18.99958999   12.96470882   13.09921652\n",
      "   17.19113219]\n",
      "fcn-simple error:  [0.9999997  1.00000008 0.99999873 1.         0.99999919 0.99999962\n",
      " 0.99999968 0.99999977 0.99999891 1.00000033 1.00000006 0.99999935\n",
      " 1.00000006 0.99999147 1.         1.00000028]\n",
      "cnn-ab-ref error:  [11.49662065 10.5724365  18.94011066 11.27546667 11.51927665 13.49278846\n",
      " 14.27219906 13.22741065 25.75523386 13.39925684 12.28481781 11.81471042\n",
      " 14.43137017 12.36739853 15.03508842 16.80007423]\n",
      "cnn-ab error:  [11.49662065 10.57243881 18.94011405 11.27546741 11.51927742 13.49278846\n",
      " 14.27219906 13.22741065 25.75523712 13.39925684 12.28481916 11.8147145\n",
      " 14.43137017 12.36739853 15.03508729 16.80007767]\n",
      "fcn-ab-ref error:  [  15.22099      16.62481706   14.64105452   15.64407746   22.90346707\n",
      "   14.84643264   14.93316894   15.77011593 -113.18648275   26.89411631\n",
      "   12.96547047   22.35950968   18.99958594   12.96472573   13.09914627\n",
      "   17.19113669]\n",
      "fcn-ab error:  [0.9999999  1.00000008 1.00000016 1.         1.00000009 0.99999987\n",
      " 1.00000006 0.99999992 1.         1.         0.99999994 1.\n",
      " 1.00000006 0.99999985 0.9999999  1.        ]\n"
     ]
    }
   ],
   "source": [
    "# Since the original and the ref rules look exactly the same, let's check if they are\n",
    "\n",
    "class_filter = 2*data.y_ - np.ones(10) # np.eye(10)[3]\n",
    "\n",
    "for rule in [\"deeptaylor\", \"zbab\", \"simple\", \"ab\"]:\n",
    "\n",
    "\n",
    "    def check_conservation(h, y, msg):\n",
    "        print(msg, \"error: \", np.sum(h, axis=tuple(range(1, len(h.shape))))/y)\n",
    "\n",
    "    Href_cnn = cnn.lrp(class_filter, rule, reference=data.X_val[:100])\n",
    "    H_cnn= cnn.lrp(class_filter, rule)\n",
    "\n",
    "    h, href, y = sess.run([H_cnn, Href_cnn, cnn.y], feed_dict=samples)\n",
    "    y = np.sum(y*data.y_test[:16], axis=1)\n",
    "\n",
    "    check_conservation(href, y, \"cnn-{}-ref\".format(rule))\n",
    "    check_conservation(h, y, \"cnn-{}\".format(rule))\n",
    "\n",
    "    utils.visualize(h, utils.heatmap, \"test/cnn-{}.png\".format(rule))\n",
    "    utils.visualize(href, utils.heatmap, \"test/cnn-{}-ref.png\".format(rule))\n",
    "\n",
    "\n",
    "    Href_fcn = fcn.lrp(class_filter, rule, reference=data.X_val)\n",
    "    H_fcn= fcn.lrp(data.y_, rule)\n",
    "\n",
    "    h, href, y = sess.run([H_fcn, Href_fcn, fcn.y], feed_dict=samples)\n",
    "    y = np.sum(y*data.y_test[:16], axis=1)\n",
    "\n",
    "    check_conservation(href, y, \"fcn-{}-ref\".format(rule))\n",
    "    check_conservation(h, y, \"fcn-{}\".format(rule))\n",
    "\n",
    "    utils.visualize(h, utils.heatmap, \"test/fcn-{}.png\".format(rule))\n",
    "    utils.visualize(href, utils.heatmap, \"test/fcn-{}-ref.png\".format(rule))\n"
   ]
  },
  {
   "cell_type": "code",
   "execution_count": 5,
   "metadata": {
    "collapsed": false,
    "scrolled": true
   },
   "outputs": [
    {
     "name": "stdout",
     "output_type": "stream",
     "text": [
      "direct\n",
      "total [1.00000007 1.         0.99999989 1.         0.9999999  1.00000006\n",
      " 0.99999993 0.99999993 0.9999999  1.         0.99999992 1.\n",
      " 1.         1.00000009 1.         1.00000011]\n"
     ]
    }
   ],
   "source": [
    "layer = 0\n",
    "\n",
    "print(\"direct\")\n",
    "layer = 0\n",
    "H= cnn.lrp(data.y_,\"deeptaylor\", reference=data.X_val)\n",
    "h, y = sess.run([H, cnn.y], feed_dict=samples)\n",
    "print(\"total\",\n",
    "          np.sum(h, axis=tuple(range(1, len(h.shape))))/np.sum(y*y_, axis=1))\n",
    "utils.visualize(h, utils.heatmap_original, \"test/cnn-deeptaylor-ref.png\")\n",
    "\n"
   ]
  },
  {
   "cell_type": "code",
   "execution_count": 3,
   "metadata": {
    "collapsed": false
   },
   "outputs": [
    {
     "name": "stdout",
     "output_type": "stream",
     "text": [
      "deeptaylor ref layerwise [1.0000005, 1.0, 1.0, 1.0]\n",
      "total [1.         0.99999993 1.00000006 1.         1.         1.00000011\n",
      " 1.00000019 1.         1.00000028 0.99999993 0.99999989 0.99999978\n",
      " 1.00000008 1.0000002  1.00000007 0.99999985]\n"
     ]
    }
   ],
   "source": [
    "H, C = fcn.layerwise_lrp(data.y_,\"deeptaylor\", reference=data.X_val)\n",
    "h, c, y = sess.run([H, C, fcn.y], feed_dict=samples)\n",
    "print(\"deeptaylor ref layerwise\", c)\n",
    "print(\"total\",\n",
    "          np.sum(h[1], axis=tuple(range(1, len(h[0].shape))))/np.sum(y*y_, axis=1))\n"
   ]
  },
  {
   "cell_type": "code",
   "execution_count": 12,
   "metadata": {
    "collapsed": false
   },
   "outputs": [
    {
     "name": "stdout",
     "output_type": "stream",
     "text": [
      "[1.00000021 1.00000022 1.00000024 1.00000079 1.00000207 1.00000011\n",
      " 0.99999991 0.99999918 1.00000197 1.00000007 1.00000022 1.\n",
      " 0.99999975 0.9999999  0.99999972 0.99999963]\n"
     ]
    }
   ],
   "source": [
    "# Since the original and the ref rules look exactly the same, let's check if they are\n",
    "\n",
    "samples = {data.X: data.X_test[:16], data.y_: data.y_test[:16]}\n",
    "\n",
    "#H = cnn.lrp(data.y_, \"deeptaylor\")\n",
    "Href = fcn.lrp(data.y_, \"simple\", reference=data.X_val)\n",
    "\n",
    "href = sess.run(Href, feed_dict=samples)\n",
    "\n",
    "utils.visualize(href, utils.heatmap_original, \"test/fcn-simple-ref.png\")\n",
    "\n",
    "p = np.sum(href, axis=1)\n",
    "y = sess.run(fcn.y, feed_dict=samples)*data.y_test[:16]\n",
    "y = np.sum(y, axis=1)\n",
    "error = p/y\n",
    "print(error)\n"
   ]
  }
 ],
 "metadata": {
  "kernelspec": {
   "display_name": "Python 3",
   "language": "python",
   "name": "python3"
  },
  "language_info": {
   "codemirror_mode": {
    "name": "ipython",
    "version": 3
   },
   "file_extension": ".py",
   "mimetype": "text/x-python",
   "name": "python",
   "nbconvert_exporter": "python",
   "pygments_lexer": "ipython3",
   "version": "3.6.1"
  }
 },
 "nbformat": 4,
 "nbformat_minor": 2
}
